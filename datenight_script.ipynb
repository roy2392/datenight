{
 "cells": [
  {
   "cell_type": "code",
   "execution_count": null,
   "metadata": {},
   "outputs": [],
   "source": [
    "import calendar\n",
    "import datetime\n",
    "import random\n",
    "from google.oauth2.credentials import Credentials\n",
    "from googleapiclient.discovery import build\n",
    "\n",
    "def set_date_night():\n",
    "    # Get the current week's calendar\n",
    "    today = datetime.datetime.today()\n",
    "    _, week_num, _ = today.isocalendar()\n",
    "    week_calendar = calendar.Calendar().monthdatescalendar(today.year, today.month)\n",
    "\n",
    "    # Get the weekdays in the current week\n",
    "    weekdays = [weekday.strftime(\"%A\") for weekday in week_calendar[week_num - 1] if weekday.weekday() < 5]\n",
    "\n",
    "    # Randomly select a weekday for the date night\n",
    "    date_night_weekday = random.choice(weekdays)\n",
    "    \n",
    "    # Use the google-auth-oauthlib and google-api-python-client libraries to interact with your Google Calendar\n",
    "    credentials = Credentials.from_authorized_user_info(info)\n",
    "    service = build('calendar', 'v3', credentials=credentials)\n",
    "    \n",
    "    # Get the calendar id\n",
    "    calendar_id = service.calendars().get(calendarId='primary').execute()['id']\n",
    "    \n",
    "    # Set the date night event\n",
    "    start_time = datetime.datetime.strptime(f\"{date_night_weekday} {today.year}\", \"%A %Y\")\n",
    "    end_time = start_time + datetime.timedelta(hours=3)\n",
    "    event = {\n",
    "      'summary': 'Date Night with wife',\n",
    "      'start': {\n",
    "        'dateTime': start_time.isoformat(),\n",
    "        'timeZone': 'UTC',\n",
    "      },\n",
    "      'end': {\n",
    "        'dateTime': end_time.isoformat(),\n",
    "        'timeZone': 'UTC',\n",
    "      },\n",
    "    }\n",
    "    service.events().insert(calendarId=calendar_id, body=event).execute()\n",
    "    \n",
    "    # Print the date night information\n",
    "    print(f\"Your date night for this week will be on {date_night_weekday}.\")\n",
    "\n",
    "set_date_night()\n"
   ]
  }
 ],
 "metadata": {
  "kernelspec": {
   "display_name": "Python 3",
   "language": "python",
   "name": "python3"
  },
  "language_info": {
   "name": "python",
   "version": "3.10.5 (v3.10.5:f377153967, Jun  6 2022, 12:36:10) [Clang 13.0.0 (clang-1300.0.29.30)]"
  },
  "orig_nbformat": 4,
  "vscode": {
   "interpreter": {
    "hash": "aee8b7b246df8f9039afb4144a1f6fd8d2ca17a180786b69acc140d282b71a49"
   }
  }
 },
 "nbformat": 4,
 "nbformat_minor": 2
}
